{
 "cells": [
  {
   "cell_type": "code",
   "execution_count": 2,
   "id": "73e65b3e",
   "metadata": {},
   "outputs": [],
   "source": [
    "import pandas as pd\n",
    "import os"
   ]
  },
  {
   "cell_type": "code",
   "execution_count": 21,
   "id": "7a1cb29c",
   "metadata": {},
   "outputs": [],
   "source": [
    "datos_Path = \"datosFormula1/\"\n",
    "\n",
    "datos = [\"results.csv\",\"constructors.csv\",\"races.csv\",\"drivers.csv\",\"circuits.csv\"]"
   ]
  },
  {
   "cell_type": "markdown",
   "id": "f4bdb674",
   "metadata": {},
   "source": [
    "joinear \n",
    "races con circuits por circuit id =tabla0\n",
    "results con constructor por constructor id = tabla1\n",
    "tabla1 con drivers por driver id = tabla2\n",
    "tabla0 con tabla2 por race id = tabla3\n",
    "\n",
    "\n"
   ]
  },
  {
   "cell_type": "code",
   "execution_count": 30,
   "id": "19626e09",
   "metadata": {},
   "outputs": [
    {
     "name": "stdout",
     "output_type": "stream",
     "text": [
      "El archivo results.csv existe\n",
      "El archivo results.csv se ha cargado correctamente\n",
      "El archivo constructors.csv existe\n",
      "El archivo constructors.csv se ha cargado correctamente\n",
      "El archivo races.csv existe\n",
      "El archivo races.csv se ha cargado correctamente\n",
      "El archivo drivers.csv existe\n",
      "El archivo drivers.csv se ha cargado correctamente\n",
      "El archivo circuits.csv existe\n",
      "El archivo circuits.csv se ha cargado correctamente\n"
     ]
    }
   ],
   "source": [
    "datosdf = []\n",
    "for i in datos:\n",
    "    if os.path.exists(datos_Path + i):\n",
    "        print(f\"El archivo {i} existe\")\n",
    "        datosdf.append(pd.read_csv(datos_Path + i,na_values=['\\\\N']))\n",
    "        print(f\"El archivo {i} se ha cargado correctamente\")\n",
    "    else:\n",
    "        print(f\"El archivo {i} no existe\") "
   ]
  },
  {
   "cell_type": "markdown",
   "id": "e827b9e1",
   "metadata": {},
   "source": [
    "joinear \n",
    "races con circuits por circuit id =tabla0\n",
    "results con constructor por constructor id = tabla1\n",
    "tabla1 con drivers por driver id = tabla2\n",
    "tabla0 con tabla2 por race id = tabla3"
   ]
  },
  {
   "cell_type": "code",
   "execution_count": 39,
   "id": "77c87646",
   "metadata": {},
   "outputs": [],
   "source": [
    "races_circuits = pd.merge(datosdf[datos.index(\"races.csv\")],datosdf[datos.index(\"circuits.csv\")], on=\"circuitId\", how=\"inner\")\n",
    "results_constructor = pd.merge(datosdf[datos.index(\"results.csv\")],datosdf[datos.index(\"constructors.csv\")], on=\"constructorId\", how=\"inner\")\n",
    "results_constructor_drivers = pd.merge(results_constructor,datosdf[datos.index(\"drivers.csv\")], on=\"driverId\", how=\"inner\")\n",
    "races_circuits_results_constructor_drivers = pd.merge(races_circuits,results_constructor_drivers, on=\"raceId\", how=\"inner\")\n"
   ]
  },
  {
   "cell_type": "code",
   "execution_count": 40,
   "id": "c7991371",
   "metadata": {},
   "outputs": [],
   "source": [
    "races_circuits_results_constructor_drivers.to_csv(\"datosEntrega/races_circuits_results_constructor_drivers.csv\", index=False)\n"
   ]
  },
  {
   "cell_type": "code",
   "execution_count": null,
   "id": "fcf75077",
   "metadata": {},
   "outputs": [],
   "source": []
  }
 ],
 "metadata": {
  "kernelspec": {
   "display_name": "base",
   "language": "python",
   "name": "python3"
  },
  "language_info": {
   "codemirror_mode": {
    "name": "ipython",
    "version": 3
   },
   "file_extension": ".py",
   "mimetype": "text/x-python",
   "name": "python",
   "nbconvert_exporter": "python",
   "pygments_lexer": "ipython3",
   "version": "3.12.3"
  }
 },
 "nbformat": 4,
 "nbformat_minor": 5
}
